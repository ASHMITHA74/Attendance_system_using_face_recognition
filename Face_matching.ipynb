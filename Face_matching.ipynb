{
 "cells": [
  {
   "cell_type": "code",
   "execution_count": 1,
   "id": "6c7a5674",
   "metadata": {},
   "outputs": [
    {
     "name": "stdout",
     "output_type": "stream",
     "text": [
      "Defaulting to user installation because normal site-packages is not writeable\n",
      "Collecting opencv-python\n",
      "  Using cached opencv_python-4.8.0.74-cp37-abi3-win_amd64.whl (38.1 MB)\n",
      "Requirement already satisfied: numpy>=1.17.3 in c:\\programdata\\anaconda3\\lib\\site-packages (from opencv-python) (1.21.5)\n",
      "Installing collected packages: opencv-python\n",
      "Successfully installed opencv-python-4.8.0.74\n"
     ]
    }
   ],
   "source": [
    "!pip install opencv-python"
   ]
  },
  {
   "cell_type": "code",
   "execution_count": 2,
   "id": "7e3e4cf5",
   "metadata": {},
   "outputs": [],
   "source": [
    "import cv2"
   ]
  },
  {
   "cell_type": "code",
   "execution_count": 3,
   "id": "c6868ea0",
   "metadata": {},
   "outputs": [
    {
     "name": "stdout",
     "output_type": "stream",
     "text": [
      "Microsoft Windows [Version 10.0.22621.1992]\r\n",
      "(c) Microsoft Corporation. All rights reserved.\r\n",
      "\r\n",
      "C:\\Users\\ASHMITHA.G\\Downloads\\Untitled Folder>where python\n",
      "C:\\ProgramData\\Anaconda3\\python.exe\r\n",
      "C:\\Users\\ASHMITHA.G\\AppData\\Local\\Programs\\Python\\Python310\\python.exe\r\n",
      "C:\\Users\\ASHMITHA.G\\AppData\\Local\\Microsoft\\WindowsApps\\python.exe\r\n",
      "\r\n",
      "C:\\Users\\ASHMITHA.G\\Downloads\\Untitled Folder>"
     ]
    }
   ],
   "source": [
    "%%cmd\n",
    "where python"
   ]
  },
  {
   "cell_type": "code",
   "execution_count": 4,
   "id": "6ae818f0",
   "metadata": {},
   "outputs": [
    {
     "name": "stdout",
     "output_type": "stream",
     "text": [
      "Microsoft Windows [Version 10.0.22621.1992]\r\n",
      "(c) Microsoft Corporation. All rights reserved.\r\n",
      "\r\n",
      "C:\\Users\\ASHMITHA.G\\Downloads\\Untitled Folder>pip install face-recognition\n",
      "Defaulting to user installation because normal site-packages is not writeable\r\n",
      "Collecting face-recognition\r\n",
      "  Using cached face_recognition-1.3.0-py2.py3-none-any.whl (15 kB)\r\n",
      "Requirement already satisfied: numpy in c:\\programdata\\anaconda3\\lib\\site-packages (from face-recognition) (1.21.5)\r\n",
      "Requirement already satisfied: Click>=6.0 in c:\\programdata\\anaconda3\\lib\\site-packages (from face-recognition) (8.0.4)\r\n",
      "Requirement already satisfied: Pillow in c:\\programdata\\anaconda3\\lib\\site-packages (from face-recognition) (9.2.0)\r\n",
      "Collecting face-recognition-models>=0.3.0\r\n",
      "  Using cached face_recognition_models-0.3.0-py2.py3-none-any.whl\r\n",
      "Collecting dlib>=19.7\r\n",
      "  Using cached dlib-19.24.2.tar.gz (11.8 MB)\r\n",
      "  Installing build dependencies: started\r\n",
      "  Installing build dependencies: finished with status 'done'\r\n",
      "  Getting requirements to build wheel: started\r\n",
      "  Getting requirements to build wheel: finished with status 'done'\r\n",
      "  Preparing metadata (pyproject.toml): started\r\n",
      "  Preparing metadata (pyproject.toml): finished with status 'done'\r\n",
      "Requirement already satisfied: colorama in c:\\programdata\\anaconda3\\lib\\site-packages (from Click>=6.0->face-recognition) (0.4.5)\r\n",
      "Building wheels for collected packages: dlib\r\n",
      "  Building wheel for dlib (pyproject.toml): started\r\n",
      "  Building wheel for dlib (pyproject.toml): finished with status 'error'\r\n",
      "Failed to build dlib\r\n",
      "\r\n",
      "C:\\Users\\ASHMITHA.G\\Downloads\\Untitled Folder>"
     ]
    },
    {
     "name": "stderr",
     "output_type": "stream",
     "text": [
      "  error: subprocess-exited-with-error\r\n",
      "  \r\n",
      "  Building wheel for dlib (pyproject.toml) did not run successfully.\r\n",
      "  exit code: 1\r\n",
      "  \r\n",
      "  [73 lines of output]\r\n",
      "  running bdist_wheel\r\n",
      "  running build\r\n",
      "  running build_ext\r\n",
      "  <string>:125: DeprecationWarning: distutils Version classes are deprecated. Use packaging.version instead.\r\n",
      "  Building extension for Python 3.9.13 (main, Aug 25 2022, 23:51:50) [MSC v.1916 64 bit (AMD64)]\r\n",
      "  Invoking CMake setup: 'cmake C:\\Users\\ASHMITHA.G\\AppData\\Local\\Temp\\pip-install-o3__z88o\\dlib_5a39b0346d2d477c95cacd3eeab84584\\tools\\python -DCMAKE_LIBRARY_OUTPUT_DIRECTORY=C:\\Users\\ASHMITHA.G\\AppData\\Local\\Temp\\pip-install-o3__z88o\\dlib_5a39b0346d2d477c95cacd3eeab84584\\build\\lib.win-amd64-cpython-39 -DPYTHON_EXECUTABLE=C:\\ProgramData\\Anaconda3\\python.exe -DCMAKE_LIBRARY_OUTPUT_DIRECTORY_RELEASE=C:\\Users\\ASHMITHA.G\\AppData\\Local\\Temp\\pip-install-o3__z88o\\dlib_5a39b0346d2d477c95cacd3eeab84584\\build\\lib.win-amd64-cpython-39 -A x64'\r\n",
      "  -- Building for: NMake Makefiles\r\n",
      "  CMake Error at CMakeLists.txt:5 (message):\r\n",
      "  \r\n",
      "  \r\n",
      "  \r\n",
      "    !!!!!!!!!!!!!!!!!!!!!!!!!!!!!!!!!!!!!!!!!!!!!!!!!!!!!!!!!!!!!!!!!!!!!!!!!!!!!!!\r\n",
      "  \r\n",
      "  \r\n",
      "    You must use Visual Studio to build a python extension on windows.  If you\r\n",
      "    are getting this error it means you have not installed Visual C++.  Note\r\n",
      "    that there are many flavors of Visual Studio, like Visual Studio for C#\r\n",
      "    development.  You need to install Visual Studio for C++.\r\n",
      "  \r\n",
      "  \r\n",
      "    !!!!!!!!!!!!!!!!!!!!!!!!!!!!!!!!!!!!!!!!!!!!!!!!!!!!!!!!!!!!!!!!!!!!!!!!!!!!!!!\r\n",
      "  \r\n",
      "  \r\n",
      "  \r\n",
      "  \r\n",
      "  -- Configuring incomplete, errors occurred!\r\n",
      "  Traceback (most recent call last):\r\n",
      "    File \"C:\\ProgramData\\Anaconda3\\lib\\site-packages\\pip\\_vendor\\pep517\\in_process\\_in_process.py\", line 363, in <module>\r\n",
      "      main()\r\n",
      "    File \"C:\\ProgramData\\Anaconda3\\lib\\site-packages\\pip\\_vendor\\pep517\\in_process\\_in_process.py\", line 345, in main\r\n",
      "      json_out['return_val'] = hook(**hook_input['kwargs'])\r\n",
      "    File \"C:\\ProgramData\\Anaconda3\\lib\\site-packages\\pip\\_vendor\\pep517\\in_process\\_in_process.py\", line 261, in build_wheel\r\n",
      "      return _build_backend().build_wheel(wheel_directory, config_settings,\r\n",
      "    File \"C:\\Users\\ASHMITHA.G\\AppData\\Local\\Temp\\pip-build-env-50marnsm\\overlay\\Lib\\site-packages\\setuptools\\build_meta.py\", line 416, in build_wheel\r\n",
      "      return self._build_with_temp_dir(['bdist_wheel'], '.whl',\r\n",
      "    File \"C:\\Users\\ASHMITHA.G\\AppData\\Local\\Temp\\pip-build-env-50marnsm\\overlay\\Lib\\site-packages\\setuptools\\build_meta.py\", line 401, in _build_with_temp_dir\r\n",
      "      self.run_setup()\r\n",
      "    File \"C:\\Users\\ASHMITHA.G\\AppData\\Local\\Temp\\pip-build-env-50marnsm\\overlay\\Lib\\site-packages\\setuptools\\build_meta.py\", line 338, in run_setup\r\n",
      "      exec(code, locals())\r\n",
      "    File \"<string>\", line 218, in <module>\r\n",
      "    File \"C:\\Users\\ASHMITHA.G\\AppData\\Local\\Temp\\pip-build-env-50marnsm\\overlay\\Lib\\site-packages\\setuptools\\__init__.py\", line 107, in setup\r\n",
      "      return distutils.core.setup(**attrs)\r\n",
      "    File \"C:\\Users\\ASHMITHA.G\\AppData\\Local\\Temp\\pip-build-env-50marnsm\\overlay\\Lib\\site-packages\\setuptools\\_distutils\\core.py\", line 185, in setup\r\n",
      "      return run_commands(dist)\r\n",
      "    File \"C:\\Users\\ASHMITHA.G\\AppData\\Local\\Temp\\pip-build-env-50marnsm\\overlay\\Lib\\site-packages\\setuptools\\_distutils\\core.py\", line 201, in run_commands\r\n",
      "      dist.run_commands()\r\n",
      "    File \"C:\\Users\\ASHMITHA.G\\AppData\\Local\\Temp\\pip-build-env-50marnsm\\overlay\\Lib\\site-packages\\setuptools\\_distutils\\dist.py\", line 969, in run_commands\r\n",
      "      self.run_command(cmd)\r\n",
      "    File \"C:\\Users\\ASHMITHA.G\\AppData\\Local\\Temp\\pip-build-env-50marnsm\\overlay\\Lib\\site-packages\\setuptools\\dist.py\", line 1234, in run_command\r\n",
      "      super().run_command(command)\r\n",
      "    File \"C:\\Users\\ASHMITHA.G\\AppData\\Local\\Temp\\pip-build-env-50marnsm\\overlay\\Lib\\site-packages\\setuptools\\_distutils\\dist.py\", line 988, in run_command\r\n",
      "      cmd_obj.run()\r\n",
      "    File \"C:\\Users\\ASHMITHA.G\\AppData\\Local\\Temp\\pip-build-env-50marnsm\\overlay\\Lib\\site-packages\\wheel\\bdist_wheel.py\", line 349, in run\r\n",
      "      self.run_command(\"build\")\r\n",
      "    File \"C:\\Users\\ASHMITHA.G\\AppData\\Local\\Temp\\pip-build-env-50marnsm\\overlay\\Lib\\site-packages\\setuptools\\_distutils\\cmd.py\", line 318, in run_command\r\n",
      "      self.distribution.run_command(command)\r\n",
      "    File \"C:\\Users\\ASHMITHA.G\\AppData\\Local\\Temp\\pip-build-env-50marnsm\\overlay\\Lib\\site-packages\\setuptools\\dist.py\", line 1234, in run_command\r\n",
      "      super().run_command(command)\r\n",
      "    File \"C:\\Users\\ASHMITHA.G\\AppData\\Local\\Temp\\pip-build-env-50marnsm\\overlay\\Lib\\site-packages\\setuptools\\_distutils\\dist.py\", line 988, in run_command\r\n",
      "      cmd_obj.run()\r\n",
      "    File \"C:\\Users\\ASHMITHA.G\\AppData\\Local\\Temp\\pip-build-env-50marnsm\\overlay\\Lib\\site-packages\\setuptools\\_distutils\\command\\build.py\", line 131, in run\r\n",
      "      self.run_command(cmd_name)\r\n",
      "    File \"C:\\Users\\ASHMITHA.G\\AppData\\Local\\Temp\\pip-build-env-50marnsm\\overlay\\Lib\\site-packages\\setuptools\\_distutils\\cmd.py\", line 318, in run_command\r\n",
      "      self.distribution.run_command(command)\r\n",
      "    File \"C:\\Users\\ASHMITHA.G\\AppData\\Local\\Temp\\pip-build-env-50marnsm\\overlay\\Lib\\site-packages\\setuptools\\dist.py\", line 1234, in run_command\r\n",
      "      super().run_command(command)\r\n",
      "    File \"C:\\Users\\ASHMITHA.G\\AppData\\Local\\Temp\\pip-build-env-50marnsm\\overlay\\Lib\\site-packages\\setuptools\\_distutils\\dist.py\", line 988, in run_command\r\n",
      "      cmd_obj.run()\r\n",
      "    File \"<string>\", line 130, in run\r\n",
      "    File \"<string>\", line 167, in build_extension\r\n",
      "    File \"C:\\ProgramData\\Anaconda3\\lib\\subprocess.py\", line 373, in check_call\r\n",
      "      raise CalledProcessError(retcode, cmd)\r\n",
      "  subprocess.CalledProcessError: Command '['cmake', 'C:\\\\Users\\\\ASHMITHA.G\\\\AppData\\\\Local\\\\Temp\\\\pip-install-o3__z88o\\\\dlib_5a39b0346d2d477c95cacd3eeab84584\\\\tools\\\\python', '-DCMAKE_LIBRARY_OUTPUT_DIRECTORY=C:\\\\Users\\\\ASHMITHA.G\\\\AppData\\\\Local\\\\Temp\\\\pip-install-o3__z88o\\\\dlib_5a39b0346d2d477c95cacd3eeab84584\\\\build\\\\lib.win-amd64-cpython-39', '-DPYTHON_EXECUTABLE=C:\\\\ProgramData\\\\Anaconda3\\\\python.exe', '-DCMAKE_LIBRARY_OUTPUT_DIRECTORY_RELEASE=C:\\\\Users\\\\ASHMITHA.G\\\\AppData\\\\Local\\\\Temp\\\\pip-install-o3__z88o\\\\dlib_5a39b0346d2d477c95cacd3eeab84584\\\\build\\\\lib.win-amd64-cpython-39', '-A', 'x64']' returned non-zero exit status 1.\r\n",
      "  [end of output]\r\n",
      "  \r\n",
      "  note: This error originates from a subprocess, and is likely not a problem with pip.\r\n",
      "  ERROR: Failed building wheel for dlib\r\n",
      "ERROR: Could not build wheels for dlib, which is required to install pyproject.toml-based projects\r\n"
     ]
    }
   ],
   "source": [
    "%%cmd\n",
    "pip install face-recognition"
   ]
  },
  {
   "cell_type": "code",
   "execution_count": 5,
   "id": "7e16fde6",
   "metadata": {},
   "outputs": [
    {
     "name": "stdout",
     "output_type": "stream",
     "text": [
      "Microsoft Windows [Version 10.0.22621.1992]\r\n",
      "(c) Microsoft Corporation. All rights reserved.\r\n",
      "\r\n",
      "C:\\Users\\ASHMITHA.G\\Downloads\\Untitled Folder>pip install cmake\n",
      "Defaulting to user installation because normal site-packages is not writeable\r\n",
      "Collecting cmake\r\n",
      "  Using cached cmake-3.27.1-py2.py3-none-win_amd64.whl (34.6 MB)\r\n",
      "Installing collected packages: cmake\r\n",
      "Successfully installed cmake-3.27.1\r\n",
      "\r\n",
      "C:\\Users\\ASHMITHA.G\\Downloads\\Untitled Folder>"
     ]
    },
    {
     "name": "stderr",
     "output_type": "stream",
     "text": [
      "  WARNING: The scripts cmake.exe, cpack.exe and ctest.exe are installed in 'C:\\Users\\ASHMITHA.G\\AppData\\Roaming\\Python\\Python39\\Scripts' which is not on PATH.\r\n",
      "  Consider adding this directory to PATH or, if you prefer to suppress this warning, use --no-warn-script-location.\r\n"
     ]
    }
   ],
   "source": [
    "%%cmd\n",
    "pip install cmake"
   ]
  },
  {
   "cell_type": "code",
   "execution_count": 6,
   "id": "919bc5d4",
   "metadata": {},
   "outputs": [
    {
     "name": "stdout",
     "output_type": "stream",
     "text": [
      "Microsoft Windows [Version 10.0.22621.1992]\r\n",
      "(c) Microsoft Corporation. All rights reserved.\r\n",
      "\r\n",
      "C:\\Users\\ASHMITHA.G\\Downloads\\Untitled Folder>python --version\n",
      "Python 3.9.13\r\n",
      "\r\n",
      "C:\\Users\\ASHMITHA.G\\Downloads\\Untitled Folder>"
     ]
    }
   ],
   "source": [
    "%%cmd\n",
    "python --version"
   ]
  },
  {
   "cell_type": "code",
   "execution_count": 7,
   "id": "13d37d0d",
   "metadata": {},
   "outputs": [
    {
     "name": "stdout",
     "output_type": "stream",
     "text": [
      "Microsoft Windows [Version 10.0.22621.1992]\r\n",
      "(c) Microsoft Corporation. All rights reserved.\r\n",
      "\r\n",
      "C:\\Users\\ASHMITHA.G\\Downloads\\Untitled Folder>pip install \"C:\\Users\\ASHMITHA.G\\Downloads\\dlib-19.22.99-cp39-cp39-win_amd64.whl\"\n",
      "Defaulting to user installation because normal site-packages is not writeable\r\n",
      "Processing c:\\users\\ashmitha.g\\downloads\\dlib-19.22.99-cp39-cp39-win_amd64.whl\r\n",
      "Installing collected packages: dlib\r\n",
      "Successfully installed dlib-19.22.99\r\n",
      "\r\n",
      "C:\\Users\\ASHMITHA.G\\Downloads\\Untitled Folder>"
     ]
    }
   ],
   "source": [
    "%%cmd\n",
    "pip install \"C:\\Users\\ASHMITHA.G\\Downloads\\dlib-19.22.99-cp39-cp39-win_amd64.whl\""
   ]
  },
  {
   "cell_type": "code",
   "execution_count": 8,
   "id": "dd15edc9",
   "metadata": {},
   "outputs": [
    {
     "name": "stdout",
     "output_type": "stream",
     "text": [
      "Microsoft Windows [Version 10.0.22621.1992]\r\n",
      "(c) Microsoft Corporation. All rights reserved.\r\n",
      "\r\n",
      "C:\\Users\\ASHMITHA.G\\Downloads\\Untitled Folder>pip install face-recognition\n",
      "Defaulting to user installation because normal site-packages is not writeable\r\n",
      "Collecting face-recognition\r\n",
      "  Using cached face_recognition-1.3.0-py2.py3-none-any.whl (15 kB)\r\n",
      "Requirement already satisfied: dlib>=19.7 in c:\\users\\ashmitha.g\\appdata\\roaming\\python\\python39\\site-packages (from face-recognition) (19.22.99)\r\n",
      "Requirement already satisfied: Pillow in c:\\programdata\\anaconda3\\lib\\site-packages (from face-recognition) (9.2.0)\r\n",
      "Requirement already satisfied: Click>=6.0 in c:\\programdata\\anaconda3\\lib\\site-packages (from face-recognition) (8.0.4)\r\n",
      "Requirement already satisfied: numpy in c:\\programdata\\anaconda3\\lib\\site-packages (from face-recognition) (1.21.5)\r\n",
      "Collecting face-recognition-models>=0.3.0\r\n",
      "  Using cached face_recognition_models-0.3.0-py2.py3-none-any.whl\r\n",
      "Requirement already satisfied: colorama in c:\\programdata\\anaconda3\\lib\\site-packages (from Click>=6.0->face-recognition) (0.4.5)\r\n",
      "Installing collected packages: face-recognition-models, face-recognition\r\n",
      "Successfully installed face-recognition-1.3.0 face-recognition-models-0.3.0\r\n",
      "\r\n",
      "C:\\Users\\ASHMITHA.G\\Downloads\\Untitled Folder>"
     ]
    },
    {
     "name": "stderr",
     "output_type": "stream",
     "text": [
      "  WARNING: The scripts face_detection.exe and face_recognition.exe are installed in 'C:\\Users\\ASHMITHA.G\\AppData\\Roaming\\Python\\Python39\\Scripts' which is not on PATH.\r\n",
      "  Consider adding this directory to PATH or, if you prefer to suppress this warning, use --no-warn-script-location.\r\n"
     ]
    }
   ],
   "source": [
    "%%cmd\n",
    "pip install face-recognition"
   ]
  },
  {
   "cell_type": "code",
   "execution_count": 2,
   "id": "bea397d0",
   "metadata": {},
   "outputs": [
    {
     "name": "stdout",
     "output_type": "stream",
     "text": [
      "[False] [0.80839841]\n"
     ]
    },
    {
     "data": {
      "text/plain": [
       "-1"
      ]
     },
     "execution_count": 2,
     "metadata": {},
     "output_type": "execute_result"
    }
   ],
   "source": [
    "import cv2\n",
    "import face_recognition\n",
    "\n",
    "imgElon = face_recognition.load_image_file(r\"C:\\Users\\ASHMITHA.G\\Downloads\\ImageAttendance\\Elon_Musk.jpg\")\n",
    "imgElon = cv2.cvtColor(imgElon, cv2.COLOR_BGR2RGB)\n",
    "imgTest = face_recognition.load_image_file(r\"C:\\Users\\ASHMITHA.G\\Downloads\\ImageAttendance\\Bill_Gates.jpg\")\n",
    "imgTest = cv2.cvtColor(imgTest, cv2.COLOR_BGR2RGB)\n",
    "\n",
    "faceLoc = face_recognition.face_locations(imgElon)[0]\n",
    "encodeElon = face_recognition.face_encodings(imgElon)[0]\n",
    "cv2.rectangle(imgElon, (faceLoc[3], faceLoc[0]), (faceLoc[1], faceLoc[2]), (255, 0, 255), 2)\n",
    "\n",
    "faceLocTest = face_recognition.face_locations(imgTest)[0]\n",
    "encodeTest = face_recognition.face_encodings(imgTest)[0]\n",
    "cv2.rectangle(imgTest, (faceLocTest[3], faceLocTest[0]), (faceLocTest[1], faceLocTest[2]), (255, 0, 255), 2)\n",
    "\n",
    "results = face_recognition.compare_faces([encodeElon], encodeTest)\n",
    "faceDis = face_recognition.face_distance([encodeElon], encodeTest)\n",
    "print(results, faceDis)\n",
    "cv2.putText(imgTest, f'{results} {round(faceDis[0], 2)}', (50, 50), cv2.FONT_HERSHEY_COMPLEX, 1, (0, 0, 255), 2)\n",
    "\n",
    "cv2.imshow('Elon Musk', imgElon)\n",
    "cv2.imshow('Elon Test', imgTest)\n",
    "cv2.waitKey(0)"
   ]
  },
  {
   "cell_type": "code",
   "execution_count": null,
   "id": "95e69965",
   "metadata": {},
   "outputs": [],
   "source": []
  }
 ],
 "metadata": {
  "kernelspec": {
   "display_name": "Python 3 (ipykernel)",
   "language": "python",
   "name": "python3"
  },
  "language_info": {
   "codemirror_mode": {
    "name": "ipython",
    "version": 3
   },
   "file_extension": ".py",
   "mimetype": "text/x-python",
   "name": "python",
   "nbconvert_exporter": "python",
   "pygments_lexer": "ipython3",
   "version": "3.9.13"
  }
 },
 "nbformat": 4,
 "nbformat_minor": 5
}
